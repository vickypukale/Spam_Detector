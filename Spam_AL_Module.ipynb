{
  "cells": [
    {
      "cell_type": "code",
      "execution_count": 1,
      "metadata": {
        "colab": {
          "base_uri": "https://localhost:8080/"
        },
        "id": "TaxtZfp7l5ab",
        "outputId": "dcf29dba-5307-4e7e-9d15-10692207b92b"
      },
      "outputs": [
        {
          "output_type": "stream",
          "name": "stdout",
          "text": [
            "Requirement already satisfied: beautifulsoup4 in /usr/local/lib/python3.12/dist-packages (4.13.5)\n",
            "Requirement already satisfied: soupsieve>1.2 in /usr/local/lib/python3.12/dist-packages (from beautifulsoup4) (2.8)\n",
            "Requirement already satisfied: typing-extensions>=4.0.0 in /usr/local/lib/python3.12/dist-packages (from beautifulsoup4) (4.15.0)\n"
          ]
        }
      ],
      "source": [
        "# Install any missing libs (only needed if not already available)\n",
        "!pip install beautifulsoup4\n",
        "\n",
        "# Imports\n",
        "import re, math, time, imaplib, email\n",
        "import pandas as pd\n",
        "from email.header import decode_header\n",
        "from bs4 import BeautifulSoup\n"
      ]
    },
    {
      "cell_type": "code",
      "execution_count": 2,
      "metadata": {
        "colab": {
          "base_uri": "https://localhost:8080/"
        },
        "id": "u3B6Ky6omBc8",
        "outputId": "fb8acf41-ef8d-455e-ee3f-8262c3a2ce77"
      },
      "outputs": [
        {
          "output_type": "stream",
          "name": "stdout",
          "text": [
            "✅ Model trained successfully\n"
          ]
        }
      ],
      "source": [
        "# --- Preprocess function ---\n",
        "def preprocess(text):\n",
        "    text = text.lower()\n",
        "    text = re.sub(r\"[^a-z\\s]\", \" \", text)\n",
        "    return text.split()\n",
        "\n",
        "# --- Train Naive Bayes ---\n",
        "def train_naive_bayes(dataset):\n",
        "    spam_words, ham_words = {}, {}\n",
        "    spam_count, ham_count = 0, 0\n",
        "\n",
        "    for label, words in dataset:\n",
        "        if label == \"spam\":\n",
        "            spam_count += 1\n",
        "            for w in words:\n",
        "                spam_words[w] = spam_words.get(w, 0) + 1\n",
        "        else:\n",
        "            ham_count += 1\n",
        "            for w in words:\n",
        "                ham_words[w] = ham_words.get(w, 0) + 1\n",
        "\n",
        "    p_spam = spam_count / len(dataset)\n",
        "    p_ham = ham_count / len(dataset)\n",
        "\n",
        "    vocab = set(list(spam_words.keys()) + list(ham_words.keys()))\n",
        "    word_probs = {}\n",
        "    for w in vocab:\n",
        "        word_probs[w] = {\n",
        "            \"spam\": (spam_words.get(w, 0) + 1) / (sum(spam_words.values()) + len(vocab)),\n",
        "            \"ham\":  (ham_words.get(w, 0) + 1) / (sum(ham_words.values()) + len(vocab))\n",
        "        }\n",
        "    return p_spam, p_ham, word_probs\n",
        "\n",
        "# --- Prediction ---\n",
        "def predict(text, p_spam, p_ham, word_probs):\n",
        "    words = preprocess(text)\n",
        "    log_spam, log_ham = math.log(p_spam), math.log(p_ham)\n",
        "    for w in words:\n",
        "        if w in word_probs:\n",
        "            log_spam += math.log(word_probs[w][\"spam\"])\n",
        "            log_ham  += math.log(word_probs[w][\"ham\"])\n",
        "    return \"SPAM\" if log_spam > log_ham else \"HAM\"\n",
        "\n",
        "# --- Load dataset & train ---\n",
        "df = pd.read_csv(\"/content/spam.csv\", encoding='latin-1')\n",
        "df = df[['v1', 'v2']]\n",
        "df.columns = ['label', 'message']\n",
        "dataset = [(row['label'], preprocess(row['message'])) for _, row in df.iterrows()]\n",
        "\n",
        "p_spam, p_ham, word_probs = train_naive_bayes(dataset)\n",
        "print(\"✅ Model trained successfully\")\n"
      ]
    },
    {
      "cell_type": "code",
      "execution_count": 3,
      "metadata": {
        "id": "a1uhLpXHmEAX"
      },
      "outputs": [],
      "source": [
        "# --- Connect to Gmail ---\n",
        "def connect_gmail(user, password, inbox=\"inbox\"):\n",
        "    mail = imaplib.IMAP4_SSL(\"imap.gmail.com\")\n",
        "    mail.login(user, password)\n",
        "    mail.select(inbox)\n",
        "    return mail\n",
        "\n",
        "# --- Decode subject safely ---\n",
        "def decode_subject(msg):\n",
        "    subject, encoding = decode_header(msg[\"Subject\"])[0]\n",
        "    if isinstance(subject, bytes):\n",
        "        subject = subject.decode(encoding if encoding else \"utf-8\")\n",
        "    return subject\n",
        "\n",
        "# --- Extract plain text body ---\n",
        "def extract_body(msg):\n",
        "    body = \"\"\n",
        "    if msg.is_multipart():\n",
        "        for part in msg.walk():\n",
        "            if part.get_content_type() == \"text/plain\":\n",
        "                body = part.get_payload(decode=True).decode(errors=\"ignore\")\n",
        "                break\n",
        "        else:  # fallback to HTML if no plain text found\n",
        "            for part in msg.walk():\n",
        "                if part.get_content_type() == \"text/html\":\n",
        "                    html = part.get_payload(decode=True).decode(errors=\"ignore\")\n",
        "                    body = BeautifulSoup(html, \"html.parser\").get_text(\" \")\n",
        "                    break\n",
        "    else:\n",
        "        if msg.get_content_type() == \"text/html\":\n",
        "            html = msg.get_payload(decode=True).decode(errors=\"ignore\")\n",
        "            body = BeautifulSoup(html, \"html.parser\").get_text(\" \")\n",
        "        else:\n",
        "            body = msg.get_payload(decode=True).decode(errors=\"ignore\")\n",
        "    return body\n"
      ]
    },
    {
      "cell_type": "code",
      "execution_count": 4,
      "metadata": {
        "colab": {
          "base_uri": "https://localhost:8080/"
        },
        "id": "iinyU3eTmGxl",
        "outputId": "22100ba0-2ba3-451a-98aa-c3117bb1dc6d"
      },
      "outputs": [
        {
          "output_type": "stream",
          "name": "stdout",
          "text": [
            "✅ Gmail connected\n"
          ]
        }
      ],
      "source": [
        "# ⚠️ SECURITY NOTE: In Colab, better to use input() so your password isn't visible\n",
        "# EMAIL_USER = input(\"Enter your Gmail: \")\n",
        "# EMAIL_PASS = input(\"Enter your Gmail App Password: \")\n",
        "EMAIL_USER = \"Enter your Gmail ID Here\"\n",
        "EMAIL_PASS = \"Enter Your App Password Here\"\n",
        "\n",
        "mail = connect_gmail(EMAIL_USER, EMAIL_PASS)\n",
        "print(\"✅ Gmail connected\")\n"
      ]
    },
    {
      "cell_type": "markdown",
      "metadata": {
        "id": "OZ2I5lqkoelx"
      },
      "source": [
        "**this will run for Infinite so I will change this code**"
      ]
    },
    {
      "cell_type": "code",
      "execution_count": 5,
      "metadata": {
        "colab": {
          "base_uri": "https://localhost:8080/"
        },
        "id": "i20yzKQCmIUh",
        "outputId": "c52cc56e-e353-45f5-8fbe-b9030e89856e"
      },
      "outputs": [
        {
          "output_type": "stream",
          "name": "stdout",
          "text": [
            "📩 Spam filter started. Checking for new mails...\n",
            "\n",
            "📌 Subject: 🏁 Finish signing up\n",
            "📌 Classified as: SPAM\n",
            "-----\n",
            "📌 Subject: Now shipped: Cursor CLI\n",
            "📌 Classified as: SPAM\n",
            "-----\n",
            "📌 Subject: ✍️ Write better everywhere!\n",
            "📌 Classified as: SPAM\n",
            "-----\n",
            "📌 Subject: Refer friends to Warp, get rewards 🎁\n",
            "📌 Classified as: SPAM\n",
            "-----\n",
            "📌 Subject: 🚀 Take control of your writing — on the go\n",
            "📌 Classified as: SPAM\n",
            "-----\n",
            "📌 Subject: 🥇 Achieve more with Premium\n",
            "📌 Classified as: SPAM\n",
            "-----\n"
          ]
        }
      ],
      "source": [
        "print(\"📩 Spam filter started. Checking for new mails...\\n\")\n",
        "\n",
        "stop = 1\n",
        "\n",
        "while stop != 0: # true - for infinite run\n",
        "    status, messages = mail.search(None, \"UNSEEN\")\n",
        "    ids = messages[0].split()\n",
        "\n",
        "    if not ids:\n",
        "        print(\"✅ No new mails. Waiting...\")\n",
        "    else:\n",
        "        for msg_id in ids:\n",
        "            res, msg_data = mail.fetch(msg_id, \"(RFC822)\")\n",
        "            for response_part in msg_data:\n",
        "                if isinstance(response_part, tuple):\n",
        "                    msg = email.message_from_bytes(response_part[1])\n",
        "\n",
        "                    subject = decode_subject(msg)\n",
        "                    body = extract_body(msg)\n",
        "\n",
        "                    mail_text = subject + \" \" + body\n",
        "                    result = predict(mail_text, p_spam, p_ham, word_probs)\n",
        "\n",
        "                    print(f\"📌 Subject: {subject}\")\n",
        "                    print(f\"📌 Classified as: {result}\")\n",
        "                    print(\"-----\")\n",
        "\n",
        "    # time.sleep(60)  # check every 60 seconds\n",
        "    stop -= 1"
      ]
    },
    {
      "cell_type": "code",
      "source": [
        "# --- Hard-coded accuracy function ---\n",
        "def calculate_accuracy_hardcoded(dataset, p_spam, p_ham, word_probs):\n",
        "    \"\"\"\n",
        "    dataset: list of tuples (label, preprocessed_words)\n",
        "    p_spam, p_ham, word_probs: trained Naive Bayes parameters\n",
        "    \"\"\"\n",
        "    correct = 0\n",
        "    total = 0\n",
        "\n",
        "    for data in dataset:\n",
        "        label = data[0].lower()  # 'spam' or 'ham'\n",
        "        words = data[1]          # list of preprocessed words\n",
        "        total += 1\n",
        "\n",
        "        # Join words to form a string for prediction\n",
        "        text = \" \".join(words)\n",
        "        prediction = predict(text, p_spam, p_ham, word_probs)\n",
        "        pred_label = \"spam\" if prediction == \"SPAM\" else \"ham\"\n",
        "\n",
        "        if pred_label == label:\n",
        "            correct += 1\n",
        "\n",
        "    # Calculate accuracy\n",
        "    accuracy = correct / total\n",
        "    return accuracy\n",
        "\n",
        "# --- Example usage ---\n",
        "accuracy = calculate_accuracy_hardcoded(dataset, p_spam, p_ham, word_probs)\n",
        "print(\"✅ Model Accuracy: {:.2f}%\".format(accuracy * 100))\n"
      ],
      "metadata": {
        "id": "Np_pxOUyXeRc",
        "outputId": "cb2f81c6-e0a4-4548-8a07-0d86509e718c",
        "colab": {
          "base_uri": "https://localhost:8080/"
        }
      },
      "execution_count": 6,
      "outputs": [
        {
          "output_type": "stream",
          "name": "stdout",
          "text": [
            "✅ Model Accuracy: 99.14%\n"
          ]
        }
      ]
    },
    {
      "cell_type": "code",
      "source": [
        "from sklearn.metrics import accuracy_score, precision_score, recall_score, f1_score\n",
        "\n",
        "def evaluate_model(y_true, y_pred):\n",
        "    \"\"\"\n",
        "    Prints accuracy, precision, recall, and F1-score for the model.\n",
        "\n",
        "    Parameters:\n",
        "    y_true (array-like): True labels\n",
        "    y_pred (array-like): Predicted labels\n",
        "    \"\"\"\n",
        "    accuracy = accuracy_score(y_true, y_pred)\n",
        "    precision = precision_score(y_true, y_pred, average='binary', pos_label=\"spam\")\n",
        "    recall = recall_score(y_true, y_pred, average='binary', pos_label=\"spam\")\n",
        "    f1 = f1_score(y_true, y_pred, average='binary', pos_label=\"spam\")\n",
        "\n",
        "    print(\"📊 Model Performance Metrics\")\n",
        "    print(f\"Accuracy : {accuracy:.2%}\")\n",
        "    print(f\"Precision: {precision:.2%}\")\n",
        "    print(f\"Recall   : {recall:.2%}\")\n",
        "    print(f\"F1-score : {f1:.2%}\")\n",
        "\n",
        "    return accuracy, precision, recall, f1\n",
        "\n",
        "\n"
      ],
      "metadata": {
        "id": "ofy_rYsNs4yM"
      },
      "execution_count": 9,
      "outputs": []
    },
    {
      "cell_type": "code",
      "source": [
        "# Suppose y_test = true labels, y_pred = model predictions\n",
        "acc, prec, rec, f1 = evaluate_model(y_test, y_pred)\n"
      ],
      "metadata": {
        "colab": {
          "base_uri": "https://localhost:8080/",
          "height": 158
        },
        "id": "u-wRfgaRtBw3",
        "outputId": "29403346-91b9-428c-9954-9c94f9d83993"
      },
      "execution_count": 10,
      "outputs": [
        {
          "output_type": "error",
          "ename": "NameError",
          "evalue": "name 'y_test' is not defined",
          "traceback": [
            "\u001b[0;31m---------------------------------------------------------------------------\u001b[0m",
            "\u001b[0;31mNameError\u001b[0m                                 Traceback (most recent call last)",
            "\u001b[0;32m/tmp/ipython-input-8591696.py\u001b[0m in \u001b[0;36m<cell line: 0>\u001b[0;34m()\u001b[0m\n\u001b[1;32m      1\u001b[0m \u001b[0;31m# Suppose y_test = true labels, y_pred = model predictions\u001b[0m\u001b[0;34m\u001b[0m\u001b[0;34m\u001b[0m\u001b[0m\n\u001b[0;32m----> 2\u001b[0;31m \u001b[0macc\u001b[0m\u001b[0;34m,\u001b[0m \u001b[0mprec\u001b[0m\u001b[0;34m,\u001b[0m \u001b[0mrec\u001b[0m\u001b[0;34m,\u001b[0m \u001b[0mf1\u001b[0m \u001b[0;34m=\u001b[0m \u001b[0mevaluate_model\u001b[0m\u001b[0;34m(\u001b[0m\u001b[0my_test\u001b[0m\u001b[0;34m,\u001b[0m \u001b[0my_pred\u001b[0m\u001b[0;34m)\u001b[0m\u001b[0;34m\u001b[0m\u001b[0;34m\u001b[0m\u001b[0m\n\u001b[0m",
            "\u001b[0;31mNameError\u001b[0m: name 'y_test' is not defined"
          ]
        }
      ]
    },
    {
      "cell_type": "code",
      "metadata": {
        "colab": {
          "base_uri": "https://localhost:8080/"
        },
        "id": "3114c530",
        "outputId": "d166dfe2-6999-495d-e9b6-6291f54a3c24"
      },
      "source": [
        "# Prepare data for evaluation\n",
        "y_true = [label.lower() for label, _ in dataset]  # Extract true labels\n",
        "y_pred = [predict(\" \".join(words), p_spam, p_ham, word_probs).lower() for _, words in dataset] # Generate predictions\n",
        "\n",
        "# Evaluate the model using the evaluate_model function\n",
        "acc, prec, rec, f1 = evaluate_model(y_true, y_pred)"
      ],
      "execution_count": 11,
      "outputs": [
        {
          "output_type": "stream",
          "name": "stdout",
          "text": [
            "📊 Model Performance Metrics\n",
            "Accuracy : 99.14%\n",
            "Precision: 96.79%\n",
            "Recall   : 96.79%\n",
            "F1-score : 96.79%\n"
          ]
        }
      ]
    }
  ],
  "metadata": {
    "colab": {
      "provenance": []
    },
    "kernelspec": {
      "display_name": "Python 3",
      "name": "python3"
    },
    "language_info": {
      "name": "python"
    }
  },
  "nbformat": 4,
  "nbformat_minor": 0
}